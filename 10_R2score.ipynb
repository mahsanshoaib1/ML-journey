{
 "cells": [
  {
   "cell_type": "markdown",
   "metadata": {},
   "source": [
    "# <span style = \"color:#156a73\"  > Metrices in sklearn-3 </span>"
   ]
  },
  {
   "cell_type": "markdown",
   "metadata": {},
   "source": [
    "## <span style = \"color:#b3b258\" >Mean Square Error</span>\n",
    "\n",
    "> MSE and MAE outputs are the context dependent and tells the loss. While R2 score tells how good model is. \n",
    "\n",
    "> Also called goodness of fit and coefficient of determination\n",
    "\n",
    "> 1 - SSR/SSM\n",
    "\n",
    "> SSR = Sum of squared error in regression line. = (y1 - y1^)^2. Here y^ is from regression line\n",
    "\n",
    "> SSM = Sum of squared error in the mean line = (y1 - y1^)^2. Here y^ is from mean line\n",
    "\n",
    "\n",
    "### <span style = \"color:red\" > Interpretiton of R2 score:\n",
    "\n",
    "If R2 is equal to 0, it means the output of function of both lines is 1. The error is\n",
    "same for both the lines. matlb jitna error difference data point ka mean line sy hy, \n",
    "utna hy regression line sy hy. And visually both lines are at same spot. \n",
    "\n",
    "> If R2 score is towards 0 it means model is not good. If R2 score is more towards\n",
    "> 1 then the model is performing well and good. \n",
    "\n",
    "If regression line have more error than the mean line, then the output will be a negative number.\n",
    "> So, negative number means the regression error is more than mean error. \n",
    "\n",
    "> If R2 >0.80. It means the output is 80% effected by the plotted variables on x and y. \n",
    "> Varibale explain 80% of variance Rest of 20% is not confirmed\n",
    "\n",
    "\n",
    "### <span style = \"color:red\" > Disadvantage:\n",
    "\n",
    "> Increasing number of columns increases the R2 score. Even if it is an irrelevent column. \n"
   ]
  },
  {
   "cell_type": "code",
   "execution_count": null,
   "metadata": {},
   "outputs": [],
   "source": []
  }
 ],
 "metadata": {
  "language_info": {
   "name": "python"
  },
  "orig_nbformat": 4
 },
 "nbformat": 4,
 "nbformat_minor": 2
}
