{
 "cells": [
  {
   "cell_type": "markdown",
   "metadata": {},
   "source": [
    "# <span style = \"color:#156a73\"  > Metrices in sklearn-2 </span>"
   ]
  },
  {
   "cell_type": "markdown",
   "metadata": {},
   "source": [
    "## <span style = \"color:#b3b258\" >Mean Square Error</span>\n",
    "\n",
    "> It's actually the loss function which tells how our model is performing.\n",
    "\n",
    "> Its regression metrics. Used to evaluate the regression problem. \n",
    "\n",
    "> Just take the square of modulus function. ie. ( | yn - yn^ | )^2\n",
    " "
   ]
  },
  {
   "cell_type": "markdown",
   "metadata": {},
   "source": [
    "### <span style = \"color:red\" > Advantages and Disadvantages:\n",
    "\n",
    "**Advantages**\n",
    "> Mean absolute outputs a value which is the loss of model. We have to reduce this number. \n",
    "\n",
    "> It is differentiable. \n",
    "\n",
    "**Disadvantages**\n",
    " \n",
    "> The output unit of MSE is the square of the output column unit. For example, y = price in lac. The MEE output will be (price in lac)^2\n",
    "\n",
    "> Not robust to outliers. Due to the square, outliers get prominent. \n"
   ]
  },
  {
   "cell_type": "markdown",
   "metadata": {},
   "source": [
    "## <span style = \"color:#b3b258\" >Root Mean Square Error</span>\n",
    "\n",
    "> It's actually the loss function which tells how our model is performing.\n",
    "\n",
    "> The square root of mean square error.\n",
    "\n",
    "> It's properties are almost same as mean absolute error. The differece it that it is not robust to outliers. \n",
    "\n",
    "> Also it solves the problem of mean absolute error."
   ]
  },
  {
   "cell_type": "markdown",
   "metadata": {},
   "source": []
  }
 ],
 "metadata": {
  "language_info": {
   "name": "python"
  },
  "orig_nbformat": 4
 },
 "nbformat": 4,
 "nbformat_minor": 2
}
