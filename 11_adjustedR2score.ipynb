{
 "cells": [
  {
   "cell_type": "markdown",
   "metadata": {},
   "source": [
    "# <span style = \"color:#156a73\"  > Metrices in sklearn-2 </span>"
   ]
  },
  {
   "cell_type": "markdown",
   "metadata": {},
   "source": [
    "## <span style = \"color:#b3b258\" >Adjusted R2 score</span>\n",
    "\n",
    "> R2 score was effected by the number of coloumns. Even if they are relevent or not.\n",
    "\n",
    "> Adjusted R2 score this drawback of R2 score. \n",
    "\n",
    "> Ar2 = 1- [((1-r2)(n-1)) / (n-1-k) ]\n",
    "\n",
    "> r2 = r2score, n = number of rows, k = total number of independent columns. \n",
    "\n",
    "> If we increase the number of coloumns that are irrelevent. The denominator will increase. so overall output will decrease. So, when irrelevent coloumn is added the adjusted r2 score will decrease.\n",
    "\n",
    "> If we add the coloumns that is irrelevent r2score will increase. The nominaotr will decrease. so overall output will increase. So, when relevent coloumn is added the adjusted r2 score will decrease.\n",
    "\n",
    "\n",
    "\n",
    "### <span style = \"color:red\" > Advantages and Disadvantages:\n"
   ]
  },
  {
   "cell_type": "code",
   "execution_count": null,
   "metadata": {},
   "outputs": [],
   "source": []
  }
 ],
 "metadata": {
  "language_info": {
   "name": "python"
  },
  "orig_nbformat": 4
 },
 "nbformat": 4,
 "nbformat_minor": 2
}
