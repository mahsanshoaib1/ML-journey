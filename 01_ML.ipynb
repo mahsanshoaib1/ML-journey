{
 "cells": [
  {
   "attachments": {},
   "cell_type": "markdown",
   "metadata": {},
   "source": [
    "# <snap style = \"color:maroon\"> AN OverView of Artificial Intelligence"
   ]
  },
  {
   "attachments": {},
   "cell_type": "markdown",
   "metadata": {},
   "source": [
    "<snap style = \"color:red\"> Some uses of artificial intelligence: </snap>\n",
    "- Object Detection (detecting a specific object)\n",
    "- Classification (categories)\n",
    "- Segmentation (differentiate things in an image)\n",
    "- Generative Models (making new data resemebles to input data)"
   ]
  },
  {
   "cell_type": "markdown",
   "metadata": {},
   "source": [
    "Two types of ML models:\n",
    "\n",
    "- Classifiers : To predict categorical variable. Output is categorical. Types of it are binary and multiclass\n",
    "- Regressors : Output is always a numeric value. "
   ]
  },
  {
   "cell_type": "markdown",
   "metadata": {},
   "source": [
    "The variable we want to predict on the basis of other variables is called **target variabl**e/dependent."
   ]
  },
  {
   "cell_type": "markdown",
   "metadata": {},
   "source": [
    "Observation, row, data point, instances are the same terminologies. "
   ]
  },
  {
   "attachments": {},
   "cell_type": "markdown",
   "metadata": {},
   "source": [
    "<snap style = \"color:red\"> Types of machine learning: </snap>\n",
    "- Supervised\n",
    "- Unsupervised \n",
    "- Semisupervised\n",
    "- Reinforcement "
   ]
  },
  {
   "attachments": {},
   "cell_type": "markdown",
   "metadata": {},
   "source": [
    "Training data: \n",
    "\n",
    "        Used to train a ml model\n",
    "\n",
    "\n",
    "\n",
    "validation/ testing data:\n",
    "\n",
    "        to test the data"
   ]
  },
  {
   "attachments": {},
   "cell_type": "markdown",
   "metadata": {},
   "source": [
    "<snap style = \"color:red\"> Types of Unsupervised\n",
    "1. Clustering (grouping of similar things)\n",
    "2. Dimensionality Reduction (reduce the dimensions)\n",
    "3. Anomaly Detection (separating the abnormal things from normal)"
   ]
  },
  {
   "attachments": {},
   "cell_type": "markdown",
   "metadata": {},
   "source": [
    "<snap style = \"color:red\"> Types of Reinforcement:\n",
    "1. Carrot\n",
    "2. Stick learning"
   ]
  },
  {
   "attachments": {},
   "cell_type": "markdown",
   "metadata": {},
   "source": [
    "Deep Learning is subdivision of machine learning that involves neural network. Doing machine learning with neural network is called deep learning\n",
    "> Every neuron is a mathemetical function in neural network\n",
    ">\n",
    "> Every function can't be used as neuron\n",
    "\n",
    "For example, relu, sigmoid\n",
    "\n",
    "Artificial Neural network is called Universal approximator"
   ]
  },
  {
   "attachments": {},
   "cell_type": "markdown",
   "metadata": {},
   "source": [
    "Making an engine is a good example. All experts in a room to make an engine:\n",
    "\n",
    "input aaya, experts are activation functions, the room is hidden layer, the engine after completion is output"
   ]
  },
  {
   "attachments": {},
   "cell_type": "markdown",
   "metadata": {},
   "source": [
    "**This all the types is called discriminative AI**"
   ]
  },
  {
   "cell_type": "markdown",
   "metadata": {},
   "source": [
    "<snap style = \"color:red\">Structure of an ML Model:</span>\n",
    "1. X and y variable. Independent or dependent variables\n",
    "2. Splitting the data into training and testing data\n",
    "3. Data Preprocessing\n",
    "\n",
    "\n",
    "<span style = \"color:skyblue\">\n",
    "  \n",
    "  - Is feature scaling is required or not? MUST ASK THIS QUESTION.\n",
    "  - If required then most of the time standardization solves the most of the problem. If not, then try NORMALIZATION\n",
    "  - If we have the min and max then use MinMax Scaler\n",
    "  - If we dont have the idea of data, use standard scalling\n",
    "  - If it contains outliers then use Robust scalling\n",
    "  - If contains scars data, use MaxAbs scalling\n",
    "\n",
    "</span>\n",
    "  \n",
    "4. Crerating and training the mode\n",
    "5. Model prediction\n",
    "6. Model Evaluation. Metrices and loss5"
   ]
  },
  {
   "attachments": {},
   "cell_type": "markdown",
   "metadata": {},
   "source": [
    "NLP:\n",
    "\n",
    "   <snap style = \"color:red\">Stemming: </snap>\n",
    "   \n",
    "        Removing last few characters of word to make a simplest word. which often leading to a different word. caring = car. \n",
    "    \n",
    "  <snap style = \"color:red\">Lemmatization: </snap>\n",
    "\n",
    "        consider the context and convert it in meaningful short form. caring = care\n",
    "\n",
    "   <snap style = \"color:red\">Tokenization: </snap>\n",
    "\n",
    "        This is the process or mechanism of breaking down a complete sentence into short phrases or singles words. \"He is boy\" = \"He\" \"is\" \"boy\""
   ]
  },
  {
   "attachments": {},
   "cell_type": "markdown",
   "metadata": {},
   "source": [
    "1. Descriptive AI:\n",
    " \n",
    "   Decriminate between two or more than two things\n",
    "\n",
    "3. Generative AI:\n",
    "   \n",
    "   Generate new data"
   ]
  },
  {
   "attachments": {},
   "cell_type": "markdown",
   "metadata": {},
   "source": [
    "<snap style=\"color:red\"> **Encoder:** </snap>\n",
    "\n",
    "Change human centric data to machine centric data. Used to discriminate. for example, pics into integer arrays\n",
    "\n",
    "<snap style=\"color:red\">**Decoder:** </snap>\n",
    "\n",
    "Change machine centric data to human centric data. Used to generate new data. for example, arrays into pics\n",
    "\n",
    "<snap style=\"color:red\"> **Embeddings** </snap>\n",
    "\n",
    "language that computer understands\n",
    "\n",
    "<snap style=\"color:red\"> **Diffusion models** </snap>\n",
    "\n",
    "make a clear picture noisy and learn. Then generate new images from noisy data\n",
    "\n",
    "<snap style=\"color:red\"> **Latent representation in diffusion** </snap>\n",
    "\n",
    "process of converting from human centric to machine centric "
   ]
  }
 ],
 "metadata": {
  "kernelspec": {
   "display_name": "Python 3",
   "language": "python",
   "name": "python3"
  },
  "language_info": {
   "codemirror_mode": {
    "name": "ipython",
    "version": 3
   },
   "file_extension": ".py",
   "mimetype": "text/x-python",
   "name": "python",
   "nbconvert_exporter": "python",
   "pygments_lexer": "ipython3",
   "version": "3.10.12"
  },
  "orig_nbformat": 4
 },
 "nbformat": 4,
 "nbformat_minor": 2
}
