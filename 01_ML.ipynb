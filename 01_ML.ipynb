{
 "cells": [
  {
   "attachments": {},
   "cell_type": "markdown",
   "metadata": {},
   "source": [
    "# <snap style = \"color:maroon\"> AN OverView of Artificial Intelligence"
   ]
  },
  {
   "attachments": {},
   "cell_type": "markdown",
   "metadata": {},
   "source": [
    "<snap style = \"color:red\"> Some uses of artificial intelligence: </snap>\n",
    "- Object Detection (detecting a specific object)\n",
    "- Classification (categories)\n",
    "- Segmentation (differentiate things in an image)\n",
    "- Generative Models (making new data resemebles to input data)"
   ]
  },
  {
   "attachments": {},
   "cell_type": "markdown",
   "metadata": {},
   "source": [
    "<snap style = \"color:red\"> Types of machine learning: </snap>\n",
    "- Supervised\n",
    "- Unsupervised \n",
    "- Semisupervised\n",
    "- Reinforcement "
   ]
  },
  {
   "attachments": {},
   "cell_type": "markdown",
   "metadata": {},
   "source": [
    "Training data: \n",
    "\n",
    "        Used to train a ml model\n",
    "\n",
    "\n",
    "\n",
    "validation/ testing data:\n",
    "\n",
    "        to test the data"
   ]
  },
  {
   "attachments": {},
   "cell_type": "markdown",
   "metadata": {},
   "source": [
    "<snap style = \"color:red\"> Types of Unsupervised\n",
    "1. Clustering (grouping of similar things)\n",
    "2. Dimensionality Reduction (reduce the dimensions)\n",
    "3. Anomaly Detection (separating the abnormal things from normal)"
   ]
  },
  {
   "attachments": {},
   "cell_type": "markdown",
   "metadata": {},
   "source": [
    "<snap style = \"color:red\"> Types of Reinforcement:\n",
    "1. Carrot\n",
    "2. Stick learning"
   ]
  },
  {
   "attachments": {},
   "cell_type": "markdown",
   "metadata": {},
   "source": [
    "Deep Learning is subdivision of machine learning that involves neural network. Doing machine learning with neural network is called deep learning\n",
    "> Every neuron is a mathemetical function in neural network\n",
    ">\n",
    "> Every function can't be used as neuron\n",
    "\n",
    "For example, relu, sigmoid\n",
    "\n",
    "Artificial Neural network is called Universal approximator"
   ]
  },
  {
   "attachments": {},
   "cell_type": "markdown",
   "metadata": {},
   "source": [
    "Making an engine is a good example. All experts in a room to make an engine:\n",
    "\n",
    "input aaya, experts are activation functions, the room is hidden layer, the engine after completion is output"
   ]
  },
  {
   "attachments": {},
   "cell_type": "markdown",
   "metadata": {},
   "source": [
    "**This all the types is called discriminative AI**"
   ]
  },
  {
   "attachments": {},
   "cell_type": "markdown",
   "metadata": {},
   "source": [
    "NLP:\n",
    "\n",
    "   <snap style = \"color:red\">Stemming: </snap>\n",
    "   \n",
    "        Removing last few characters fo word to make a simplest word. which often leading to a different word. caring = car. \n",
    "    \n",
    "  <snap style = \"color:red\">Lemmatization: </snap>\n",
    "\n",
    "        consider the context and convert it in meaningful short form. caring = care\n",
    "\n",
    "   <snap style = \"color:red\">Tokenization: </snap>\n",
    "\n",
    "        This is the process or mechanism of breaking down a complete sentence into short phrases or singles words. \"He is boy\" = \"He\" \"is\" \"boy\""
   ]
  },
  {
   "attachments": {},
   "cell_type": "markdown",
   "metadata": {},
   "source": [
    "    "
   ]
  }
 ],
 "metadata": {
  "kernelspec": {
   "display_name": "Python 3",
   "language": "python",
   "name": "python3"
  },
  "language_info": {
   "codemirror_mode": {
    "name": "ipython",
    "version": 3
   },
   "file_extension": ".py",
   "mimetype": "text/x-python",
   "name": "python",
   "nbconvert_exporter": "python",
   "pygments_lexer": "ipython3",
   "version": "3.10.12"
  },
  "orig_nbformat": 4
 },
 "nbformat": 4,
 "nbformat_minor": 2
}
