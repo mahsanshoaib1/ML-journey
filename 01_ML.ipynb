{
 "cells": [
  {
   "attachments": {},
   "cell_type": "markdown",
   "metadata": {},
   "source": [
    "# <snap style = \"color:#004dcf\"> AN OverView of Artificial Intelligence"
   ]
  },
  {
   "attachments": {},
   "cell_type": "markdown",
   "metadata": {},
   "source": [
    "<snap style = \"color:red\"> Some uses of artificial intelligence: </snap>\n",
    "- Object Detection (detecting a specific object)\n",
    "- Classification (categories)\n",
    "- Segmentation (differentiate things in an image)\n",
    "- Generative Models (making new data resemebles to input data)"
   ]
  },
  {
   "cell_type": "markdown",
   "metadata": {},
   "source": [
    "## <snap style = \"color:skyblue\"> Machine Learning: </snap>"
   ]
  },
  {
   "cell_type": "markdown",
   "metadata": {},
   "source": [
    "Two types of ML models:\n",
    "\n",
    "- Classifiers : To predict categorical variable. Output is categorical. Types of it are binary and multiclass\n",
    "- Regressors : Output is always a numeric value. "
   ]
  },
  {
   "cell_type": "markdown",
   "metadata": {},
   "source": [
    "The variable we want to predict on the basis of other variables is called **target variabl**e/dependent."
   ]
  },
  {
   "cell_type": "markdown",
   "metadata": {},
   "source": [
    "Observation, row, data point, instances are the same terminologies. "
   ]
  },
  {
   "attachments": {},
   "cell_type": "markdown",
   "metadata": {},
   "source": [
    "## <snap style = \"color:red\"> Types of machine learning on the basis of amount of data/supervision: </snap>\n",
    "- Supervised\n",
    "  - Regression\n",
    "  - Classification\n",
    "- Unsupervised \n",
    "  - Clustring\n",
    "  - Dimentionality Reduction\n",
    "  - Anamoly detection\n",
    "  - Association rule learning\n",
    "- Semisupervised\n",
    "- Reinforcement \n",
    "  - Carrot\n",
    "  - Stick learning"
   ]
  },
  {
   "cell_type": "markdown",
   "metadata": {},
   "source": [
    "### <snap style = \"color:#539d78\"> Supervised: </snap>\n",
    "\n",
    "Predict a third variable on the basis of two or more input variables. \n",
    "For example, on the basis of cgpa and iq level, we predict the placement of job. \n",
    "\n",
    "> **Input and output both exist**. Input columns are called dependent variables. Output coloumn is called dependent variable. \n",
    "\n",
    "> While training the data, ML Creates a mathemetical relationship between the input and output variables so that we can predict new data. \n",
    "\n",
    "> If the output column is numerical, then its called regression supervised ML. For example, predicting the job placement. \n",
    "\n",
    "> If the output column is categorical, then its called categorical. supervised ML. For example, predicting the salary package. \n",
    "\n",
    "### <snap style = \"color:#539d78\"> UnSupervised: </snap>\n",
    "\n",
    "> **No output, only Input**. No prediction of other variable. Then what we do? clustring, dimentionality reduction, association rule learning, anamoly detection. \n",
    "\n",
    "> *Clustring:* Categorizing the related data as sub-groups with in a data. \n",
    "\n",
    "> *Dimentionality reduction*: Reducing the dimensions. Remove extra columns by merging or droping or other detection. \n",
    "\n",
    "> *Anamoly detection:* Detecting something unusual in data, for example outliers.\n",
    "\n",
    "> *Association rule learning:* Organizing data with patterns. For example milk and eggs are purchased to gether. so we will put them together in the market. \n",
    "\n"
   ]
  },
  {
   "cell_type": "markdown",
   "metadata": {},
   "source": [
    "## <snap style = \"color:red\"> Types of machine learning on the basis of training of model: </snap>\n",
    "\n",
    "Models run on deployed on server. Production and development environment, \n",
    "\n",
    "\n",
    "### <snap style = \"color:#539d78\"> Batch or offline machine learning : </snap>\n",
    "\n",
    "> Conventional way of training data.  Whole data is used for training the model. \n",
    "\n",
    "> There is no incrimental training. Data isnt divided, the whole loot of data is used. \n",
    "\n",
    "> The model is trained offline. and then deployed on server. model of sever pr train ni kia ja sakta. \n",
    "\n",
    "**Problem with batch learning:**\n",
    "\n",
    "Model ramian old. Trained on old data. Model don't remain upto date after few time. Model should be re trained again and again. \n",
    "\n",
    "**Disadvantage:**\n",
    " 1. Lots of data\n",
    " 2. Hardware limitation\n",
    " 3. Availability\n",
    "\n",
    "### <snap style = \"color:#539d78\"> Online machine learning : </snap>\n",
    "\n",
    "> The training is incrimental. Training the model with short batches again and again. \n",
    "\n",
    "> New data continously uploading on model. Model online kaam bhi krta rehta hy, new data sy seikhta bhi rehta hy. \n",
    "\n",
    "> Incrimental learning of model using Mini batches of data where the model is trained sequentially.\n",
    "\n",
    "**When to use?**\n",
    "1. Concept drift: When problem is changing its nature. For example stock exchange. \n",
    "2. Cost effective: \n",
    "3. Faster Solution: Fast training due to short bachtes. \n",
    "\n",
    "**Sklearn is used for batch learning. River and vowpal wabbit is used for online machine learning**\n",
    "\n",
    "<snap style = \"color:#004dcf\"> **Learning Rate :** </snap>\n",
    "\n",
    "We set a learning rate at which model trains it self. \n",
    "\n",
    "<snap style = \"color:#004dcf\"> **Out of core learning :** </snap>\n",
    "\n",
    "Data is huge we can load it offline. So, we use online method, and train model incrimently. \n",
    "\n",
    "**Problem with online learning:**\n",
    "\n",
    "Risky to use and tricky\n",
    "\n",
    "## <snap style = \"color:red\"> Challenges: </snap>\n",
    "\n",
    "1. Data Collection\n",
    "2. Insufficient amount of data\n",
    "3. Non representative data\n",
    "4. Poor quality data\n",
    "5. Overfitting\n",
    "6. Underfitting\n",
    "7. Irrelevent features\n",
    "8. Software Integration: Integration of model in the software"
   ]
  },
  {
   "attachments": {},
   "cell_type": "markdown",
   "metadata": {},
   "source": [
    "Training data: \n",
    "\n",
    "        Used to train a ml model\n",
    "\n",
    "\n",
    "\n",
    "validation/ testing data:\n",
    "\n",
    "        to test the data"
   ]
  },
  {
   "attachments": {},
   "cell_type": "markdown",
   "metadata": {},
   "source": [
    "Deep Learning is subdivision of machine learning that involves neural network. Doing machine learning with neural network is called deep learning\n",
    "> Every neuron is a mathemetical function in neural network\n",
    ">\n",
    "> Every function can't be used as neuron\n",
    "\n",
    "For example, relu, sigmoid\n",
    "\n",
    "Artificial Neural network is called Universal approximator"
   ]
  },
  {
   "attachments": {},
   "cell_type": "markdown",
   "metadata": {},
   "source": [
    "Making an engine is a good example. All experts in a room to make an engine:\n",
    "\n",
    "input aaya, experts are activation functions, the room is hidden layer, the engine after completion is output"
   ]
  },
  {
   "attachments": {},
   "cell_type": "markdown",
   "metadata": {},
   "source": [
    "**This all the types is called discriminative AI**"
   ]
  },
  {
   "cell_type": "markdown",
   "metadata": {},
   "source": [
    "## <snap style = \"color:red\">Structure of an ML Model:</span>\n",
    "1. X and y variable. Independent or dependent variables\n",
    "2. Splitting the data into training and testing data\n",
    "3. Data Preprocessing\n",
    "\n",
    "<span style = \"color:skyblue\">\n",
    "  \n",
    "  - Is feature scaling is required or not? MUST ASK THIS QUESTION.\n",
    "  - If required then most of the time standardization solves the most of the problem. If not, then try NORMALIZATION\n",
    "  - If we have the min and max then use MinMax Scaler\n",
    "  - If we dont have the idea of data, use standard scalling\n",
    "  - If it contains outliers then use Robust scalling\n",
    "  - If contains scars data, use MaxAbs scalling\n",
    "\n",
    "</span>\n",
    "  \n",
    "4. Crerating and training the mode\n",
    "5. Model prediction\n",
    "6. Model Evaluation. Metrices and loss5"
   ]
  },
  {
   "cell_type": "markdown",
   "metadata": {},
   "source": [
    "## <snap style = \"color:red\">Other concepts:</span>\n",
    "\n",
    "**Features = Input columns**"
   ]
  },
  {
   "attachments": {},
   "cell_type": "markdown",
   "metadata": {},
   "source": [
    "NLP:\n",
    "\n",
    "   <snap style = \"color:red\">Stemming: </snap>\n",
    "   \n",
    "        Removing last few characters of word to make a simplest word. which often leading to a different word. caring = car. \n",
    "    \n",
    "  <snap style = \"color:red\">Lemmatization: </snap>\n",
    "\n",
    "        consider the context and convert it in meaningful short form. caring = care\n",
    "\n",
    "   <snap style = \"color:red\">Tokenization: </snap>\n",
    "\n",
    "        This is the process or mechanism of breaking down a complete sentence into short phrases or singles words. \"He is boy\" = \"He\" \"is\" \"boy\""
   ]
  },
  {
   "attachments": {},
   "cell_type": "markdown",
   "metadata": {},
   "source": [
    "1. Descriptive AI:\n",
    " \n",
    "   Decriminate between two or more than two things\n",
    "\n",
    "3. Generative AI:\n",
    "   \n",
    "   Generate new data"
   ]
  },
  {
   "attachments": {},
   "cell_type": "markdown",
   "metadata": {},
   "source": [
    "<snap style=\"color:red\"> **Encoder:** </snap>\n",
    "\n",
    "Change human centric data to machine centric data. Used to discriminate. for example, pics into integer arrays\n",
    "\n",
    "<snap style=\"color:red\">**Decoder:** </snap>\n",
    "\n",
    "Change machine centric data to human centric data. Used to generate new data. for example, arrays into pics\n",
    "\n",
    "<snap style=\"color:red\"> **Embeddings** </snap>\n",
    "\n",
    "language that computer understands\n",
    "\n",
    "<snap style=\"color:red\"> **Diffusion models** </snap>\n",
    "\n",
    "make a clear picture noisy and learn. Then generate new images from noisy data\n",
    "\n",
    "<snap style=\"color:red\"> **Latent representation in diffusion** </snap>\n",
    "\n",
    "process of converting from human centric to machine centric "
   ]
  }
 ],
 "metadata": {
  "kernelspec": {
   "display_name": "Python 3",
   "language": "python",
   "name": "python3"
  },
  "language_info": {
   "codemirror_mode": {
    "name": "ipython",
    "version": 3
   },
   "file_extension": ".py",
   "mimetype": "text/x-python",
   "name": "python",
   "nbconvert_exporter": "python",
   "pygments_lexer": "ipython3",
   "version": "3.10.12"
  },
  "orig_nbformat": 4
 },
 "nbformat": 4,
 "nbformat_minor": 2
}
