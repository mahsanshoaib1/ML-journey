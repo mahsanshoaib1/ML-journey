{
 "cells": [
  {
   "cell_type": "markdown",
   "metadata": {},
   "source": [
    "# <pan style = \"color:#004dcf\"> Tensors in Machine learning:</span>"
   ]
  },
  {
   "cell_type": "markdown",
   "metadata": {},
   "source": [
    "## <span style = \"color:red\">Why starting with tensor:</span>\n",
    "\n",
    "> Tensor is the **basic data structure** of all the machine learning libraries.\n",
    "\n",
    "> All the ml libraries is using tensor.\n",
    "\n",
    "> It is a container that store numbers. \n",
    "\n",
    "> Tensor is the metrics or vector.\n",
    "- single word is called scaler or 0-d tensor. eg. [9], [6]. There is no dimension, so its 0. \n",
    "- [1,2,3,4]. this is a vector, array, 1d array, 1d tensor\n",
    "- [[1,2,3], [4,5,6]] 2D, rank = 2, \n",
    "  \n",
    "\n",
    "> Axis. If array is 2d. It means there are two axis. number of axis also called ranks, also called dimension sometimes. \n",
    "\n",
    "> Columns are also called dimensions. [1,2,3]. This is vector and 1d tensor. This 1d tensor have 3 dimensions in it. \n",
    "\n",
    "> Although 1d tensor is 1d. But it also has its own dimensions further. \n",
    "\n",
    "> Example of 3D tensor is **NLP**\n",
    "\n",
    "> Example of 4D tensor is **images**\n",
    "\n",
    "> Example of 5D tensor is **videos**\n",
    "\n",
    "\n",
    "\n"
   ]
  },
  {
   "cell_type": "markdown",
   "metadata": {},
   "source": []
  }
 ],
 "metadata": {
  "language_info": {
   "name": "python"
  },
  "orig_nbformat": 4
 },
 "nbformat": 4,
 "nbformat_minor": 2
}
